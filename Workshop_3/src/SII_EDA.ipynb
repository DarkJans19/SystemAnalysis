{
 "cells": [
  {
   "cell_type": "markdown",
   "metadata": {},
   "source": [
    "# Exploratory Data Analysis (EDA) Notebook for the SII Project\n",
    "\n",
    "This notebook performs exploratory data analysis on the training and testing datasets of the Severely Impairment Index (SII) project, following a systematic structure to understand the quality, distribution, and relationships of the variables."
   ]
  },
  {
   "cell_type": "markdown",
   "metadata": {},
   "source": [
    "## 1. Import Libraries and Initial Configuration\n",
    "\n",
    "In this section, we import the necessary libraries for analysis and configure visualization options for pandas and matplotlib."
   ]
  },
  {
   "cell_type": "code",
   "execution_count": 1,
   "metadata": {},
   "outputs": [],
   "source": [
    "import pandas as pd\n",
    "import numpy as np\n",
    "import matplotlib.pyplot as plt\n",
    "import seaborn as sns\n",
    "\n",
    "# Visualization options\n",
    "pd.set_option('display.max_columns', 100)\n",
    "pd.set_option('display.width', 120)\n",
    "sns.set(style=\"whitegrid\", palette=\"muted\")\n",
    "%matplotlib inline"
   ]
  },
  {
   "cell_type": "markdown",
   "metadata": {},
   "source": [
    "## 2. Load Training and Testing Data\n",
    "\n",
    "We load the `train.csv` and `test.csv` files from the data folder. We display the dimensions and the first few rows of each dataset for initial inspection."
   ]
  },
  {
   "cell_type": "code",
   "execution_count": 2,
   "metadata": {},
   "outputs": [],
   "source": [
    "# Define paths to data files\n",
    "data_dir = r\"data\"\n",
    "train_path = f\"{data_dir}/train.csv\"\n",
    "test_path = f\"{data_dir}/test.csv\"\n",
    "\n",
    "# Load the data\n",
    "train = pd.read_csv(train_path)\n",
    "test = pd.read_csv(test_path)\n",
    "\n",
    "# Display dimensions and first rows\n",
    "print(\"Dimensions of train:\", train.shape)\n",
    "print(\"Dimensions of test:\", test.shape)\n",
    "display(train.head())\n",
    "display(test.head())"
   ]
  },
  {
   "cell_type": "markdown",
   "metadata": {},
   "source": [
    "## 3. Overview of the Data\n",
    "\n",
    "Description of columns, data types, and basic statistics using `.info()` and `.describe()`."
   ]
  },
  {
   "cell_type": "code",
   "execution_count": 3,
   "metadata": {},
   "outputs": [],
   "source": [
    "print(\"General information of the training set:\")\n",
    "train.info()\n",
    "print(\"\\nGeneral information of the testing set:\")\n",
    "test.info()\n",
    "\n",
    "print(\"\\nDescriptive statistics of numerical variables (train):\")\n",
    "display(train.describe())\n",
    "\n",
    "print(\"\\nDescriptive statistics of numerical variables (test):\")\n",
    "display(test.describe())"
   ]
  },
  {
   "cell_type": "markdown",
   "metadata": {},
   "source": [
    "## 4. Analysis of Missing Values\n",
    "\n",
    "We calculate and visualize the number and percentage of null values per column in both datasets."
   ]
  },
  {
   "cell_type": "code",
   "execution_count": 4,
   "metadata": {},
   "outputs": [],
   "source": [
    "# Function to calculate missing values\n",
    "def missing_values_table(df):\n",
    "    mis_val = df.isnull().sum()\n",
    "    mis_val_percent = 100 * mis_val / len(df)\n",
    "    mis_val_table = pd.DataFrame({'Missing Values': mis_val, '% of Total': mis_val_percent})\n",
    "    mis_val_table = mis_val_table[mis_val_table['Missing Values'] > 0].sort_values('% of Total', ascending=False)\n",
    "    return mis_val_table\n",
    "\n",
    "print(\"Missing values in train:\")\n",
    "display(missing_values_table(train))\n",
    "\n",
    "print(\"Missing values in test:\")\n",
    "display(missing_values_table(test))\n",
    "\n",
    "# Visualization\n",
    "plt.figure(figsize=(14,5))\n",
    "sns.barplot(x=missing_values_table(train).index, y=missing_values_table(train)['% of Total'])\n",
    "plt.title('Percentage of Missing Values by Column (train)')\n",
    "plt.xticks(rotation=90)\n",
    "plt.show()"
   ]
  },
  {
   "cell_type": "markdown",
   "metadata": {},
   "source": [
    "## 5. Distribution of the Target Variable\n",
    "\n",
    "We analyze the distribution of `PCIAT-PCIAT_Total` and its grouping into quartiles, using histograms and boxplots."
   ]
  },
  {
   "cell_type": "code",
   "execution_count": 5,
   "metadata": {},
   "outputs": [],
   "source": [
    "# Remove nulls in the target variable for analysis\n",
    "train_obj = train.dropna(subset=['PCIAT-PCIAT_Total'])\n",
    "\n",
    "plt.figure(figsize=(10,4))\n",
    "plt.subplot(1,2,1)\n",
    "sns.histplot(train_obj['PCIAT-PCIAT_Total'], bins=30, kde=True)\n",
    "plt.title('Distribution of PCIAT-PCIAT_Total')\n",
    "\n",
    "plt.subplot(1,2,2)\n",
    "sns.boxplot(y=train_obj['PCIAT-PCIAT_Total'])\n",
    "plt.title('Boxplot of PCIAT-PCIAT_Total')\n",
    "plt.show()\n",
    "\n",
    "# Group into quartiles\n",
    "train_obj['SII_group'] = pd.qcut(train_obj['PCIAT-PCIAT_Total'], q=4, labels=[0,1,2,3])\n",
    "\n",
    "plt.figure(figsize=(6,4))\n",
    "sns.countplot(x='SII_group', data=train_obj)\n",
    "plt.title('Distribution of SII_group (quartiles)')\n",
    "plt.show()"
   ]
  },
  {
   "cell_type": "markdown",
   "metadata": {},
   "source": [
    "## 6. Analysis of Numerical Variables\n",
    "\n",
    "Exploration of the distribution of numerical variables through histograms, boxplots, and descriptive statistics."
   ]
  },
  {
   "cell_type": "code",
   "execution_count": 6,
   "metadata": {},
   "outputs": [],
   "source": [
    "# Select numerical variables (excluding the target variable and identifier)\n",
    "num_cols = train.select_dtypes(include=[np.number]).columns\n",
    "num_cols = [col for col in num_cols if col not in ['PCIAT-PCIAT_Total', 'Subject_ID']]\n",
    "\n",
    "# Histograms\n",
    "train[num_cols].hist(figsize=(16, 12), bins=30, layout=(int(np.ceil(len(num_cols)/4)), 4))\n",
    "plt.suptitle('Distribution of Numerical Variables (train)')\n",
    "plt.tight_layout(rect=[0, 0.03, 1, 0.95])\n",
    "plt.show()\n",
    "\n",
    "# Boxplots of some numerical variables\n",
    "for col in num_cols[:6]:  # Show only the first 6 to avoid clutter\n",
    "    plt.figure(figsize=(6,2))\n",
    "    sns.boxplot(x=train[col])\n",
    "    plt.title(f'Boxplot of {col}')\n",
    "    plt.show()"
   ]
  },
  {
   "cell_type": "markdown",
   "metadata": {},
   "source": [
    "## 7. Analysis of Categorical Variables\n",
    "\n",
    "Analysis of the frequency of categorical variables such as `Basic_Demos-Sex` and others present in the data."
   ]
  },
  {
   "cell_type": "code",
   "execution_count": 7,
   "metadata": {},
   "outputs": [],
   "source": [
    "# Select categorical variables\n",
    "cat_cols = train.select_dtypes(include=['object', 'category']).columns\n",
    "\n",
    "for col in cat_cols:\n",
    "    print(f\"Frequency of values for {col}:\")\n",
    "    display(train[col].value_counts(dropna=False))\n",
    "    plt.figure(figsize=(5,3))\n",
    "    sns.countplot(y=col, data=train, order=train[col].value_counts().index)\n",
    "    plt.title(f'Distribution of {col}')\n",
    "    plt.show()"
   ]
  },
  {
   "cell_type": "markdown",
   "metadata": {},
   "source": [
    "## 8. Correlation Between Variables\n",
    "\n",
    "We calculate the correlation matrix between numerical variables and visualize it with a heatmap to identify relevant relationships."
   ]
  },
  {
   "cell_type": "code",
   "execution_count": 8,
   "metadata": {},
   "outputs": [],
   "source": [
    "corr = train[num_cols + ['PCIAT-PCIAT_Total']].corr()\n",
    "\n",
    "plt.figure(figsize=(14,10))\n",
    "sns.heatmap(corr, annot=False, cmap='coolwarm', center=0)\n",
    "plt.title('Correlation Matrix Between Numerical Variables')\n",
    "plt.show()"
   ]
  },
  {
   "cell_type": "markdown",
   "metadata": {},
   "source": [
    "## 9. Visualization of Outliers\n",
    "\n",
    "Identification and visualization of possible outliers in relevant variables using boxplots."
   ]
  },
  {
   "cell_type": "code",
   "execution_count": 9,
   "metadata": {},
   "outputs": [],
   "source": [
    "# Visualize outliers in the numerical variables most correlated with the target variable\n",
    "corr_target = corr['PCIAT-PCIAT_Total'].abs().sort_values(ascending=False)\n",
    "top_corr_vars = corr_target.index[1:7]  # Exclude the target variable\n",
    "\n",
    "for col in top_corr_vars:\n",
    "    plt.figure(figsize=(6,2))\n",
    "    sns.boxplot(x=train[col])\n",
    "    plt.title(f'Boxplot of Possible Outliers in {col}')\n",
    "    plt.show()"
   ]
  }
 ],
 "metadata": {
  "kernelspec": {
   "display_name": ".venv",
   "language": "python",
   "name": "python3"
  },
  "language_info": {
   "codemirror_mode": {
    "name": "ipython",
    "version": 3
   },
   "file_extension": ".ipynb",
   "mimetype": "application/x-ipynb+json",
   "name": "python",
   "nbconvert_exporter": "python",
   "pygments_lexer": "ipython3",
   "version": "3.13.2"
  }
 },
 "nbformat": 4,
 "nbformat_minor": 4
}
